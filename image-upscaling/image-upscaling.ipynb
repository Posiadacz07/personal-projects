{
 "cells": [
  {
   "cell_type": "markdown",
   "id": "a054ce5d",
   "metadata": {},
   "source": [
    "# AI image upscaling\n",
    "\n",
    "This code takes image and uses kadirnar/bsrgan model to upscale it improving its quality. It is not just simple resize, were we can choose method of filling empty pixels."
   ]
  },
  {
   "cell_type": "code",
   "execution_count": null,
   "id": "a00f153e",
   "metadata": {},
   "outputs": [],
   "source": [
    "! wget https://github.com/xinntao/Real-ESRGAN/releases/download/v0.1.0/RealESRGAN_x4plus.pth -P weights"
   ]
  },
  {
   "cell_type": "code",
   "execution_count": null,
   "id": "6ecdbe4f",
   "metadata": {},
   "outputs": [],
   "source": [
    "import torch\n",
    "import numpy as np\n",
    "from PIL import Image\n",
    "from basicsr.archs.rrdbnet_arch import RRDBNet\n",
    "from realesrgan import RealESRGANer\n",
    "\n",
    "model_path = 'RealESRgan_x4plus.pth'\n",
    "state_dict = torch.load(model_path, map_location=torch.device('cpu'))['params_ema']\n",
    "\n",
    "model = RRDBNet(num_in_ch=3, num_out_ch=3, num_feat=64, num_block=23, num_grow_ch=32, scale=4)\n",
    "model.load_state_dict(state_dict, strict=True)\n",
    "\n",
    "upsampler = RealESRGANer(\n",
    "    scale=4,\n",
    "    model_path=model_path,\n",
    "    model=model,\n",
    "    tile=0,\n",
    "    pre_pad=0,\n",
    "    half=False,\n",
    ")"
   ]
  },
  {
   "cell_type": "code",
   "execution_count": null,
   "id": "1dcea914",
   "metadata": {},
   "outputs": [],
   "source": [
    "img = Image.open('image.jpg').convert('RGB')\n",
    "img = np.array(img)\n",
    "\n",
    "output, _ = upsampler.enhance(img, outscale=4)\n",
    "\n",
    "output_img = Image.fromarray(output)\n",
    "output_img.save('output.png')"
   ]
  },
  {
   "cell_type": "code",
   "execution_count": null,
   "id": "35d9ee22",
   "metadata": {
    "vscode": {
     "languageId": "plaintext"
    }
   },
   "outputs": [],
   "source": []
  },
  {
   "cell_type": "markdown",
   "id": "aaa0b58a",
   "metadata": {},
   "source": []
  }
 ],
 "metadata": {
  "language_info": {
   "name": "python"
  }
 },
 "nbformat": 4,
 "nbformat_minor": 5
}
